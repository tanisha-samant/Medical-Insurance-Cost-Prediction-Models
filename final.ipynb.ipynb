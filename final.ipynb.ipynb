{
  "nbformat": 4,
  "nbformat_minor": 0,
  "metadata": {
    "colab": {
      "provenance": []
    },
    "kernelspec": {
      "name": "python3",
      "display_name": "Python 3"
    },
    "language_info": {
      "name": "python"
    }
  },
  "cells": [
    {
      "cell_type": "code",
      "execution_count": 1,
      "metadata": {
        "id": "DE8BIlTe1cEz"
      },
      "outputs": [],
      "source": [
        "# Import required libraries\n",
        "import pandas as pd\n",
        "import numpy as np\n",
        "import matplotlib.pyplot as plt\n",
        "import seaborn as sns\n",
        "from sklearn.model_selection import train_test_split\n",
        "from sklearn.preprocessing import OneHotEncoder, StandardScaler\n",
        "from sklearn.linear_model import LinearRegression, Ridge, Lasso\n",
        "from sklearn.tree import DecisionTreeRegressor\n",
        "from sklearn.ensemble import RandomForestRegressor\n",
        "from sklearn.metrics import r2_score, mean_absolute_error, mean_squared_error"
      ]
    },
    {
      "cell_type": "code",
      "source": [
        "# Load dataset\n",
        "df = pd.read_csv('insurance.csv')"
      ],
      "metadata": {
        "id": "nuIkSlvB1rGu"
      },
      "execution_count": 2,
      "outputs": []
    },
    {
      "cell_type": "code",
      "source": [
        "# -----------------------------\n",
        "# 1. Dataset Summary Table\n",
        "# -----------------------------\n",
        "print(\"Dataset Info:\")\n",
        "print(df.info())\n",
        "print(\"\\nDataset Description:\")\n",
        "print(df.describe())\n",
        "\n",
        "# Save dataset summary to CSV for table in LaTeX\n",
        "df.describe().to_csv(\"dataset_summary.csv\")"
      ],
      "metadata": {
        "colab": {
          "base_uri": "https://localhost:8080/"
        },
        "id": "uW7y2aq71vsN",
        "outputId": "e8d7eac8-1ea4-40d9-90e0-4f59b14d2e8b"
      },
      "execution_count": 4,
      "outputs": [
        {
          "output_type": "stream",
          "name": "stdout",
          "text": [
            "Dataset Info:\n",
            "<class 'pandas.core.frame.DataFrame'>\n",
            "RangeIndex: 1338 entries, 0 to 1337\n",
            "Data columns (total 7 columns):\n",
            " #   Column    Non-Null Count  Dtype  \n",
            "---  ------    --------------  -----  \n",
            " 0   age       1338 non-null   int64  \n",
            " 1   sex       1338 non-null   object \n",
            " 2   bmi       1338 non-null   float64\n",
            " 3   children  1338 non-null   int64  \n",
            " 4   smoker    1338 non-null   object \n",
            " 5   region    1338 non-null   object \n",
            " 6   charges   1338 non-null   float64\n",
            "dtypes: float64(2), int64(2), object(3)\n",
            "memory usage: 73.3+ KB\n",
            "None\n",
            "\n",
            "Dataset Description:\n",
            "               age          bmi     children       charges\n",
            "count  1338.000000  1338.000000  1338.000000   1338.000000\n",
            "mean     39.207025    30.663397     1.094918  13270.422265\n",
            "std      14.049960     6.098187     1.205493  12110.011237\n",
            "min      18.000000    15.960000     0.000000   1121.873900\n",
            "25%      27.000000    26.296250     0.000000   4740.287150\n",
            "50%      39.000000    30.400000     1.000000   9382.033000\n",
            "75%      51.000000    34.693750     2.000000  16639.912515\n",
            "max      64.000000    53.130000     5.000000  63770.428010\n"
          ]
        }
      ]
    },
    {
      "cell_type": "code",
      "source": [
        "# -----------------------------\n",
        "# 2. EDA Plots\n",
        "# -----------------------------\n",
        "plt.figure(figsize=(8,5))\n",
        "sns.histplot(df['bmi'], bins=30, kde=True)\n",
        "plt.title('Distribution of BMI')\n",
        "plt.savefig(\"hist_bmi.png\", dpi=300)\n",
        "plt.close()\n",
        "\n",
        "plt.figure(figsize=(8,5))\n",
        "sns.histplot(df['charges'], bins=30, kde=True)\n",
        "plt.title('Distribution of Charges')\n",
        "plt.savefig(\"hist_charges.png\", dpi=300)\n",
        "plt.close()\n",
        "\n",
        "plt.figure(figsize=(8,5))\n",
        "sns.boxplot(x='smoker', y='charges', data=df)\n",
        "plt.title('Charges by Smoking Status')\n",
        "plt.savefig(\"box_smoker.png\", dpi=300)\n",
        "plt.close()\n",
        "\n",
        "# Select only numerical columns for correlation heatmap\n",
        "numerical_df = df.select_dtypes(include=np.number)\n",
        "\n",
        "plt.figure(figsize=(8,6))\n",
        "sns.heatmap(numerical_df.corr(), annot=True, cmap='coolwarm', fmt=\".2f\")\n",
        "plt.title('Correlation Heatmap')\n",
        "plt.savefig(\"correlation_heatmap.png\", dpi=300)\n",
        "plt.close()"
      ],
      "metadata": {
        "id": "aICscchw1yJz"
      },
      "execution_count": 4,
      "outputs": []
    },
    {
      "cell_type": "code",
      "source": [
        "# -----------------------------\n",
        "# 3. Data Preprocessing\n",
        "# -----------------------------\n",
        "# One-hot encode categorical variables\n",
        "df_encoded = pd.get_dummies(df, columns=['sex', 'smoker', 'region'], drop_first=True)\n",
        "\n",
        "# Convert boolean columns to integer (0s and 1s)\n",
        "for col in ['sex_male', 'smoker_yes', 'region_northwest', 'region_southeast', 'region_southwest']:\n",
        "    if col in df_encoded.columns:\n",
        "        df_encoded[col] = df_encoded[col].astype(int)\n",
        "\n",
        "X = df_encoded.drop('charges', axis=1)\n",
        "y = df_encoded['charges']\n",
        "\n",
        "# Split dataset\n",
        "X_train, X_test, y_train, y_test = train_test_split(X, y, test_size=0.2, random_state=42)"
      ],
      "metadata": {
        "id": "MiQN16c-10cG"
      },
      "execution_count": 5,
      "outputs": []
    },
    {
      "cell_type": "code",
      "source": [
        "# -----------------------------\n",
        "# 4. Model Training & Evaluation\n",
        "# -----------------------------\n",
        "from sklearn.model_selection import cross_val_score\n",
        "\n",
        "models = {\n",
        "    'Linear Regression': LinearRegression(),\n",
        "    'Decision Tree': DecisionTreeRegressor(random_state=42),\n",
        "    'Random Forest': RandomForestRegressor(random_state=42, n_estimators=100),\n",
        "    'Ridge Regression': Ridge(alpha=1.0),\n",
        "    'Lasso Regression': Lasso(alpha=0.01)\n",
        "}\n",
        "\n",
        "results = []\n",
        "cv_results = []\n",
        "\n",
        "for name, model in models.items():\n",
        "    model.fit(X_train, y_train)\n",
        "    y_pred = model.predict(X_test)\n",
        "\n",
        "    # Metrics\n",
        "    r2 = r2_score(y_test, y_pred)\n",
        "    mae = mean_absolute_error(y_test, y_pred)\n",
        "    rmse = np.sqrt(mean_squared_error(y_test, y_pred))\n",
        "    results.append([name, r2, mae, rmse])\n",
        "\n",
        "    # 5-fold cross-validation\n",
        "    cv_score = cross_val_score(model, X, y, cv=5, scoring='r2').mean()\n",
        "    cv_results.append([name, cv_score])\n",
        "\n",
        "# Create and save results tables\n",
        "results_df = pd.DataFrame(results, columns=['Model', 'R2', 'MAE', 'RMSE'])\n",
        "results_df.to_csv(\"model_results.csv\", index=False)\n",
        "\n",
        "cv_df = pd.DataFrame(cv_results, columns=['Model', 'CV_R2'])\n",
        "cv_df.to_csv(\"cv_results.csv\", index=False)"
      ],
      "metadata": {
        "id": "eDHR4CES2P6A"
      },
      "execution_count": 6,
      "outputs": []
    },
    {
      "cell_type": "code",
      "source": [
        "# -----------------------------\n",
        "# 5. Feature Importance - Random Forest\n",
        "# -----------------------------\n",
        "rf_model = models['Random Forest']\n",
        "importances = rf_model.feature_importances_\n",
        "feature_names = X.columns\n",
        "\n",
        "plt.figure(figsize=(10,6))\n",
        "sns.barplot(x=importances, y=feature_names)\n",
        "plt.title('Feature Importance - Random Forest')\n",
        "plt.tight_layout()\n",
        "plt.savefig(\"feature_importance.png\", dpi=300)\n",
        "plt.close()"
      ],
      "metadata": {
        "id": "deNbqUlZ2TSP"
      },
      "execution_count": 7,
      "outputs": []
    },
    {
      "cell_type": "code",
      "source": [
        "# -----------------------------\n",
        "# 6. SHAP Feature Importance\n",
        "# -----------------------------\n",
        "import shap\n",
        "import pandas as pd\n",
        "\n",
        "explainer = shap.TreeExplainer(rf_model)\n",
        "shap_values = explainer.shap_values(X_test)\n",
        "\n",
        "plt.figure(figsize=(10,6))\n",
        "shap.summary_plot(shap_values, X_test, show=False)\n",
        "plt.savefig(\"shap_summary.png\", dpi=300, bbox_inches='tight')\n",
        "plt.close()"
      ],
      "metadata": {
        "id": "FXWe8pND25ML"
      },
      "execution_count": 8,
      "outputs": []
    },
    {
      "cell_type": "code",
      "source": [
        "# -----------------------------\n",
        "# 7. Predicted vs Actual Charges\n",
        "# -----------------------------\n",
        "y_pred_rf = rf_model.predict(X_test)\n",
        "\n",
        "plt.figure(figsize=(8,6))\n",
        "plt.scatter(y_test, y_pred_rf, alpha=0.6)\n",
        "plt.xlabel('Actual Charges')\n",
        "plt.ylabel('Predicted Charges')\n",
        "plt.title('Predicted vs Actual Charges (Random Forest)')\n",
        "plt.plot([y_test.min(), y_test.max()], [y_test.min(), y_test.max()], 'r--')\n",
        "plt.tight_layout()\n",
        "plt.savefig(\"predicted_vs_actual.png\", dpi=300)\n",
        "plt.close()"
      ],
      "metadata": {
        "id": "gX9WpD0C2VOC"
      },
      "execution_count": 27,
      "outputs": []
    },
    {
      "cell_type": "code",
      "source": [
        "# -----------------------------\n",
        "# 8. Residual Plot\n",
        "# -----------------------------\n",
        "residuals = y_test - y_pred_rf\n",
        "plt.figure(figsize=(8,6))\n",
        "sns.scatterplot(x=y_pred_rf, y=residuals)\n",
        "plt.axhline(y=0, color='r', linestyle='--')\n",
        "plt.xlabel('Predicted Charges')\n",
        "plt.ylabel('Residuals')\n",
        "plt.title('Residual Plot (Random Forest)')\n",
        "plt.tight_layout()\n",
        "plt.savefig(\"residual_plot.png\", dpi=300)\n",
        "plt.close()"
      ],
      "metadata": {
        "id": "5Na7VEi42XL5"
      },
      "execution_count": 28,
      "outputs": []
    },
    {
      "cell_type": "code",
      "source": [
        "# -----------------------------\n",
        "# 9. Lasso & Ridge Coefficient Plots\n",
        "# -----------------------------\n",
        "ridge_model = models['Ridge Regression']\n",
        "lasso_model = models['Lasso Regression']\n",
        "\n",
        "plt.figure(figsize=(10,6))\n",
        "sns.barplot(x=ridge_model.coef_, y=X.columns)\n",
        "plt.title('Ridge Regression Coefficients')\n",
        "plt.tight_layout()\n",
        "plt.savefig(\"ridge_coefficients.png\", dpi=300)\n",
        "plt.close()\n",
        "\n",
        "plt.figure(figsize=(10,6))\n",
        "sns.barplot(x=lasso_model.coef_, y=X.columns)\n",
        "plt.title('Lasso Regression Coefficients')\n",
        "plt.tight_layout()\n",
        "plt.savefig(\"lasso_coefficients.png\", dpi=300)\n",
        "plt.close()"
      ],
      "metadata": {
        "id": "2jaipno92bRb"
      },
      "execution_count": 29,
      "outputs": []
    },
    {
      "cell_type": "code",
      "source": [],
      "metadata": {
        "id": "KWWlaWh33nek"
      },
      "execution_count": null,
      "outputs": []
    }
  ]
}